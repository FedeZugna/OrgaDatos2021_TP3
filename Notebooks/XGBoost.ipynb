{
 "cells": [
  {
   "cell_type": "code",
   "execution_count": null,
   "metadata": {
    "id": "wpWoS60-hX54"
   },
   "outputs": [],
   "source": [
    "import pandas as pd\n",
    "import xgboost as xgb\n",
    "import numpy as np\n",
    "import matplotlib.pyplot as plt\n",
    "from sklearn.model_selection import train_test_split\n",
    "#from sklearn.cross_validation import train_test_split\n",
    "from sklearn.model_selection import GridSearchCV\n",
    "from sklearn.model_selection import KFold\n",
    "from sklearn.ensemble import VotingClassifier\n",
    "from sklearn.metrics import roc_auc_score"
   ]
  },
  {
   "cell_type": "code",
   "execution_count": null,
   "metadata": {
    "id": "PQANw6qNhYeU"
   },
   "outputs": [],
   "source": [
    "from sklearn.model_selection import RandomizedSearchCV\n"
   ]
  },
  {
   "cell_type": "code",
   "execution_count": null,
   "metadata": {
    "colab": {
     "base_uri": "https://localhost:8080/"
    },
    "executionInfo": {
     "elapsed": 1881,
     "status": "ok",
     "timestamp": 1639767755620,
     "user": {
      "displayName": "Federico Zugna",
      "photoUrl": "https://lh3.googleusercontent.com/a/default-user=s64",
      "userId": "12944999357962513765"
     },
     "user_tz": 180
    },
    "id": "TD-2Dwdjhd0u",
    "outputId": "cf147716-d971-4107-d7d1-8effa7c9b6f0"
   },
   "outputs": [
    {
     "name": "stdout",
     "output_type": "stream",
     "text": [
      "Drive already mounted at /content/drive; to attempt to forcibly remount, call drive.mount(\"/content/drive\", force_remount=True).\n"
     ]
    }
   ],
   "source": [
    "from google.colab import drive\n",
    "drive.mount('/content/drive')"
   ]
  },
  {
   "cell_type": "markdown",
   "metadata": {
    "id": "W-91g7rHFyMG"
   },
   "source": [
    "Cargo los DF generados en el notebook anterior"
   ]
  },
  {
   "cell_type": "code",
   "execution_count": null,
   "metadata": {
    "id": "3v0RgzJjhiQz"
   },
   "outputs": [],
   "source": [
    "train_data = pd.read_csv('/content/drive/MyDrive/Colab Notebooks/TP3-DATOS-2C2021/train_120.csv',encoding='Latin-1')\n",
    "test_data = pd.read_csv('/content/drive/MyDrive/Colab Notebooks/TP3-DATOS-2C2021/test_120.csv',encoding='Latin-1')"
   ]
  },
  {
   "cell_type": "code",
   "execution_count": null,
   "metadata": {
    "id": "yYgJ3O2wijj_"
   },
   "outputs": [],
   "source": [
    "features=train_data.columns\n",
    "features=features.drop('Unnamed: 0')\n",
    "features=features.drop('isFraud')"
   ]
  },
  {
   "cell_type": "code",
   "execution_count": null,
   "metadata": {
    "id": "HYAAICqNinQO"
   },
   "outputs": [],
   "source": [
    "X=train_data[features]\n",
    "Y=train_data[['isFraud']]"
   ]
  },
  {
   "cell_type": "markdown",
   "metadata": {
    "id": "WpsjXkVlF2H7"
   },
   "source": [
    "Hago los splits de los DF y genero los parametros del modelo"
   ]
  },
  {
   "cell_type": "code",
   "execution_count": null,
   "metadata": {
    "id": "RPYL7KMfivJF"
   },
   "outputs": [],
   "source": [
    "x_train, x_test, y_train, y_test = train_test_split(X,Y, test_size=0.3)"
   ]
  },
  {
   "cell_type": "code",
   "execution_count": null,
   "metadata": {
    "id": "3EgmRfENjJer"
   },
   "outputs": [],
   "source": [
    "params = {'objective':['binary:logistic'],'colsample_bytree': [0.5,.6,.7,.8,.9,1.0], 'learning_rate': [.075,.085,.09,.095,1.0],\n",
    "                'max_depth' : [1,2,3,4,5,6,7,8,9,10], 'n_estimators' : [80,85,90,95,100],'seed':[123]}\n"
   ]
  },
  {
   "cell_type": "code",
   "execution_count": null,
   "metadata": {
    "id": "peyWbzyUjWq5"
   },
   "outputs": [],
   "source": [
    "cv = RandomizedSearchCV(estimator=xgb.XGBRegressor(),param_distributions=params,scoring='roc_auc',cv=2,verbose=100)"
   ]
  },
  {
   "cell_type": "markdown",
   "metadata": {
    "id": "nyxQ7pnBF-bQ"
   },
   "source": [
    "entreno y busco los mejores estimadores de hiperparametros"
   ]
  },
  {
   "cell_type": "code",
   "execution_count": null,
   "metadata": {
    "colab": {
     "base_uri": "https://localhost:8080/"
    },
    "executionInfo": {
     "elapsed": 1383558,
     "status": "ok",
     "timestamp": 1639769165667,
     "user": {
      "displayName": "Federico Zugna",
      "photoUrl": "https://lh3.googleusercontent.com/a/default-user=s64",
      "userId": "12944999357962513765"
     },
     "user_tz": 180
    },
    "id": "xhLzie9BjZQR",
    "outputId": "ffa962b3-e99f-4c0d-bed6-d35e2a82eb76"
   },
   "outputs": [
    {
     "name": "stdout",
     "output_type": "stream",
     "text": [
      "Fitting 2 folds for each of 10 candidates, totalling 20 fits\n",
      "[CV 1/2; 1/10] START colsample_bytree=0.5, learning_rate=1.0, max_depth=8, n_estimators=95, objective=binary:logistic, seed=123\n",
      "[CV 1/2; 1/10] END colsample_bytree=0.5, learning_rate=1.0, max_depth=8, n_estimators=95, objective=binary:logistic, seed=123;, score=0.843 total time= 1.3min\n",
      "[CV 2/2; 1/10] START colsample_bytree=0.5, learning_rate=1.0, max_depth=8, n_estimators=95, objective=binary:logistic, seed=123\n",
      "[CV 2/2; 1/10] END colsample_bytree=0.5, learning_rate=1.0, max_depth=8, n_estimators=95, objective=binary:logistic, seed=123;, score=0.841 total time= 1.2min\n",
      "[CV 1/2; 2/10] START colsample_bytree=0.5, learning_rate=0.095, max_depth=4, n_estimators=95, objective=binary:logistic, seed=123\n",
      "[CV 1/2; 2/10] END colsample_bytree=0.5, learning_rate=0.095, max_depth=4, n_estimators=95, objective=binary:logistic, seed=123;, score=0.835 total time=  40.0s\n",
      "[CV 2/2; 2/10] START colsample_bytree=0.5, learning_rate=0.095, max_depth=4, n_estimators=95, objective=binary:logistic, seed=123\n",
      "[CV 2/2; 2/10] END colsample_bytree=0.5, learning_rate=0.095, max_depth=4, n_estimators=95, objective=binary:logistic, seed=123;, score=0.830 total time=  40.1s\n",
      "[CV 1/2; 3/10] START colsample_bytree=0.5, learning_rate=0.095, max_depth=2, n_estimators=85, objective=binary:logistic, seed=123\n",
      "[CV 1/2; 3/10] END colsample_bytree=0.5, learning_rate=0.095, max_depth=2, n_estimators=85, objective=binary:logistic, seed=123;, score=0.815 total time=  22.3s\n",
      "[CV 2/2; 3/10] START colsample_bytree=0.5, learning_rate=0.095, max_depth=2, n_estimators=85, objective=binary:logistic, seed=123\n",
      "[CV 2/2; 3/10] END colsample_bytree=0.5, learning_rate=0.095, max_depth=2, n_estimators=85, objective=binary:logistic, seed=123;, score=0.812 total time=  22.6s\n",
      "[CV 1/2; 4/10] START colsample_bytree=0.8, learning_rate=0.085, max_depth=3, n_estimators=95, objective=binary:logistic, seed=123\n",
      "[CV 1/2; 4/10] END colsample_bytree=0.8, learning_rate=0.085, max_depth=3, n_estimators=95, objective=binary:logistic, seed=123;, score=0.822 total time=  43.4s\n",
      "[CV 2/2; 4/10] START colsample_bytree=0.8, learning_rate=0.085, max_depth=3, n_estimators=95, objective=binary:logistic, seed=123\n",
      "[CV 2/2; 4/10] END colsample_bytree=0.8, learning_rate=0.085, max_depth=3, n_estimators=95, objective=binary:logistic, seed=123;, score=0.820 total time=  43.2s\n",
      "[CV 1/2; 5/10] START colsample_bytree=0.6, learning_rate=0.095, max_depth=2, n_estimators=90, objective=binary:logistic, seed=123\n",
      "[CV 1/2; 5/10] END colsample_bytree=0.6, learning_rate=0.095, max_depth=2, n_estimators=90, objective=binary:logistic, seed=123;, score=0.817 total time=  25.9s\n",
      "[CV 2/2; 5/10] START colsample_bytree=0.6, learning_rate=0.095, max_depth=2, n_estimators=90, objective=binary:logistic, seed=123\n",
      "[CV 2/2; 5/10] END colsample_bytree=0.6, learning_rate=0.095, max_depth=2, n_estimators=90, objective=binary:logistic, seed=123;, score=0.813 total time=  25.9s\n",
      "[CV 1/2; 6/10] START colsample_bytree=0.8, learning_rate=0.09, max_depth=8, n_estimators=85, objective=binary:logistic, seed=123\n",
      "[CV 1/2; 6/10] END colsample_bytree=0.8, learning_rate=0.09, max_depth=8, n_estimators=85, objective=binary:logistic, seed=123;, score=0.860 total time= 1.7min\n",
      "[CV 2/2; 6/10] START colsample_bytree=0.8, learning_rate=0.09, max_depth=8, n_estimators=85, objective=binary:logistic, seed=123\n",
      "[CV 2/2; 6/10] END colsample_bytree=0.8, learning_rate=0.09, max_depth=8, n_estimators=85, objective=binary:logistic, seed=123;, score=0.853 total time= 1.7min\n",
      "[CV 1/2; 7/10] START colsample_bytree=0.6, learning_rate=0.09, max_depth=8, n_estimators=80, objective=binary:logistic, seed=123\n",
      "[CV 1/2; 7/10] END colsample_bytree=0.6, learning_rate=0.09, max_depth=8, n_estimators=80, objective=binary:logistic, seed=123;, score=0.857 total time= 1.3min\n",
      "[CV 2/2; 7/10] START colsample_bytree=0.6, learning_rate=0.09, max_depth=8, n_estimators=80, objective=binary:logistic, seed=123\n",
      "[CV 2/2; 7/10] END colsample_bytree=0.6, learning_rate=0.09, max_depth=8, n_estimators=80, objective=binary:logistic, seed=123;, score=0.852 total time= 1.3min\n",
      "[CV 1/2; 8/10] START colsample_bytree=0.7, learning_rate=0.09, max_depth=9, n_estimators=80, objective=binary:logistic, seed=123\n",
      "[CV 1/2; 8/10] END colsample_bytree=0.7, learning_rate=0.09, max_depth=9, n_estimators=80, objective=binary:logistic, seed=123;, score=0.863 total time= 1.7min\n",
      "[CV 2/2; 8/10] START colsample_bytree=0.7, learning_rate=0.09, max_depth=9, n_estimators=80, objective=binary:logistic, seed=123\n",
      "[CV 2/2; 8/10] END colsample_bytree=0.7, learning_rate=0.09, max_depth=9, n_estimators=80, objective=binary:logistic, seed=123;, score=0.857 total time= 1.7min\n",
      "[CV 1/2; 9/10] START colsample_bytree=0.6, learning_rate=1.0, max_depth=7, n_estimators=85, objective=binary:logistic, seed=123\n",
      "[CV 1/2; 9/10] END colsample_bytree=0.6, learning_rate=1.0, max_depth=7, n_estimators=85, objective=binary:logistic, seed=123;, score=0.845 total time= 1.1min\n",
      "[CV 2/2; 9/10] START colsample_bytree=0.6, learning_rate=1.0, max_depth=7, n_estimators=85, objective=binary:logistic, seed=123\n",
      "[CV 2/2; 9/10] END colsample_bytree=0.6, learning_rate=1.0, max_depth=7, n_estimators=85, objective=binary:logistic, seed=123;, score=0.843 total time= 1.1min\n",
      "[CV 1/2; 10/10] START colsample_bytree=0.6, learning_rate=0.095, max_depth=3, n_estimators=90, objective=binary:logistic, seed=123\n",
      "[CV 1/2; 10/10] END colsample_bytree=0.6, learning_rate=0.095, max_depth=3, n_estimators=90, objective=binary:logistic, seed=123;, score=0.823 total time=  34.0s\n",
      "[CV 2/2; 10/10] START colsample_bytree=0.6, learning_rate=0.095, max_depth=3, n_estimators=90, objective=binary:logistic, seed=123\n",
      "[CV 2/2; 10/10] END colsample_bytree=0.6, learning_rate=0.095, max_depth=3, n_estimators=90, objective=binary:logistic, seed=123;, score=0.820 total time=  34.3s\n"
     ]
    },
    {
     "data": {
      "text/plain": [
       "RandomizedSearchCV(cv=2, estimator=XGBRegressor(),\n",
       "                   param_distributions={'colsample_bytree': [0.5, 0.6, 0.7, 0.8,\n",
       "                                                             0.9, 1.0],\n",
       "                                        'learning_rate': [0.075, 0.085, 0.09,\n",
       "                                                          0.095, 1.0],\n",
       "                                        'max_depth': [1, 2, 3, 4, 5, 6, 7, 8, 9,\n",
       "                                                      10],\n",
       "                                        'n_estimators': [80, 85, 90, 95, 100],\n",
       "                                        'objective': ['binary:logistic'],\n",
       "                                        'seed': [123]},\n",
       "                   scoring='roc_auc', verbose=100)"
      ]
     },
     "execution_count": 11,
     "metadata": {},
     "output_type": "execute_result"
    }
   ],
   "source": [
    "cv.fit(x_train,y_train)"
   ]
  },
  {
   "cell_type": "code",
   "execution_count": null,
   "metadata": {
    "colab": {
     "base_uri": "https://localhost:8080/"
    },
    "executionInfo": {
     "elapsed": 219,
     "status": "ok",
     "timestamp": 1639769276969,
     "user": {
      "displayName": "Federico Zugna",
      "photoUrl": "https://lh3.googleusercontent.com/a/default-user=s64",
      "userId": "12944999357962513765"
     },
     "user_tz": 180
    },
    "id": "WCim3VaRjgJw",
    "outputId": "509288b8-7a2b-4ca1-ce96-6319ec07387c"
   },
   "outputs": [
    {
     "data": {
      "text/plain": [
       "XGBRegressor(colsample_bytree=0.7, learning_rate=0.09, max_depth=9,\n",
       "             n_estimators=80, objective='binary:logistic', seed=123)"
      ]
     },
     "execution_count": 12,
     "metadata": {},
     "output_type": "execute_result"
    }
   ],
   "source": [
    "cv.best_estimator_"
   ]
  },
  {
   "cell_type": "code",
   "execution_count": null,
   "metadata": {
    "id": "yl4Z0HVb3cvA"
   },
   "outputs": [],
   "source": [
    "estimator = xgb.XGBRegressor(colsample_bytree=0.7, learning_rate=0.09, max_depth=9,\n",
    "             n_estimators=80, objective='binary:logistic', seed=123)"
   ]
  },
  {
   "cell_type": "markdown",
   "metadata": {
    "id": "40sE_KDUGJlM"
   },
   "source": [
    "Entreno el modelo con el mejor estimador"
   ]
  },
  {
   "cell_type": "code",
   "execution_count": null,
   "metadata": {
    "colab": {
     "base_uri": "https://localhost:8080/"
    },
    "executionInfo": {
     "elapsed": 213100,
     "status": "ok",
     "timestamp": 1639769530467,
     "user": {
      "displayName": "Federico Zugna",
      "photoUrl": "https://lh3.googleusercontent.com/a/default-user=s64",
      "userId": "12944999357962513765"
     },
     "user_tz": 180
    },
    "id": "DLeIB5NV3gr3",
    "outputId": "5c74f043-e369-4fc4-c058-2b82ab1f6eb1"
   },
   "outputs": [
    {
     "data": {
      "text/plain": [
       "XGBRegressor(colsample_bytree=0.7, learning_rate=0.09, max_depth=9,\n",
       "             n_estimators=80, objective='binary:logistic', seed=123)"
      ]
     },
     "execution_count": 14,
     "metadata": {},
     "output_type": "execute_result"
    }
   ],
   "source": [
    "estimator.fit(x_train,y_train)"
   ]
  },
  {
   "cell_type": "code",
   "execution_count": null,
   "metadata": {
    "colab": {
     "base_uri": "https://localhost:8080/"
    },
    "executionInfo": {
     "elapsed": 2074,
     "status": "ok",
     "timestamp": 1639769598686,
     "user": {
      "displayName": "Federico Zugna",
      "photoUrl": "https://lh3.googleusercontent.com/a/default-user=s64",
      "userId": "12944999357962513765"
     },
     "user_tz": 180
    },
    "id": "o-C9x0ZTtuUl",
    "outputId": "95e81831-4b23-4494-ff04-32cee97b5ef7"
   },
   "outputs": [
    {
     "name": "stdout",
     "output_type": "stream",
     "text": [
      "0.8685873584276522\n"
     ]
    }
   ],
   "source": [
    "print(roc_auc_score(y_test, estimator.predict(x_test)))"
   ]
  },
  {
   "cell_type": "markdown",
   "metadata": {},
   "source": [
    "Hago los graficos de feature importance del modelo"
   ]
  },
  {
   "cell_type": "code",
   "execution_count": null,
   "metadata": {
    "colab": {
     "base_uri": "https://localhost:8080/",
     "height": 621
    },
    "executionInfo": {
     "elapsed": 4603,
     "status": "ok",
     "timestamp": 1639769619847,
     "user": {
      "displayName": "Federico Zugna",
      "photoUrl": "https://lh3.googleusercontent.com/a/default-user=s64",
      "userId": "12944999357962513765"
     },
     "user_tz": 180
    },
    "id": "vgyQcYAguc_C",
    "outputId": "adc3db00-d5ea-4e35-e8ce-c5c9d03270a2"
   },
   "outputs": [
    {
     "data": {
      "image/png": "[encoded data removed]",
      "text/plain": [
       "<Figure size 720x720 with 1 Axes>"
      ]
     },
     "metadata": {
      "needs_background": "light"
     },
     "output_type": "display_data"
    }
   ],
   "source": [
    "xgb.plot_importance(estimator)\n",
    "plt.rcParams['figure.figsize'] = [20, 20]\n",
    "plt.show()"
   ]
  },
  {
   "cell_type": "code",
   "execution_count": null,
   "metadata": {
    "id": "XnRxvjGhuvRw"
   },
   "outputs": [],
   "source": [
    "dmatrix = xgb.DMatrix(data=x_train[features],label=y_train,feature_names=features)"
   ]
  },
  {
   "cell_type": "code",
   "execution_count": null,
   "metadata": {
    "id": "U7YkjdBEvICI"
   },
   "outputs": [],
   "source": [
    "xgb_reg=xgb.train(params={'colsample_bytree':0.9, 'learning_rate':0.075, 'max_depth':9,\n",
    "             'n_estimators':90, 'objective':'binary:logistic', 'seed':123},dtrain=dmatrix,num_boost_round=10)"
   ]
  },
  {
   "cell_type": "code",
   "execution_count": null,
   "metadata": {
    "colab": {
     "base_uri": "https://localhost:8080/",
     "height": 621
    },
    "executionInfo": {
     "elapsed": 4765,
     "status": "ok",
     "timestamp": 1639767549240,
     "user": {
      "displayName": "Federico Zugna",
      "photoUrl": "https://lh3.googleusercontent.com/a/default-user=s64",
      "userId": "12944999357962513765"
     },
     "user_tz": 180
    },
    "id": "AYwgMEYHvsm7",
    "outputId": "b51cfdb5-9a0a-4b7b-a521-18a37ce354fd"
   },
   "outputs": [
    {
     "data": {
      "image/png": "[encoded data removed]",
      "text/plain": [
       "<Figure size 720x720 with 1 Axes>"
      ]
     },
     "metadata": {
      "needs_background": "light"
     },
     "output_type": "display_data"
    }
   ],
   "source": [
    "xgb.plot_importance(xgb_reg)\n",
    "plt.rcParams['figure.figsize'] = [20, 10]\n",
    "plt.show()"
   ]
  },
  {
   "cell_type": "code",
   "execution_count": null,
   "metadata": {
    "id": "tg5B8WPLwBxk"
   },
   "outputs": [],
   "source": []
  },
  {
   "cell_type": "markdown",
   "metadata": {
    "id": "XjvrBkdTGO9A"
   },
   "source": [
    "busco los features mas importantes"
   ]
  },
  {
   "cell_type": "code",
   "execution_count": null,
   "metadata": {
    "colab": {
     "base_uri": "https://localhost:8080/"
    },
    "executionInfo": {
     "elapsed": 269,
     "status": "ok",
     "timestamp": 1639769632809,
     "user": {
      "displayName": "Federico Zugna",
      "photoUrl": "https://lh3.googleusercontent.com/a/default-user=s64",
      "userId": "12944999357962513765"
     },
     "user_tz": 180
    },
    "id": "-1qix9dgwGAU",
    "outputId": "8b299ed3-49d6-46ee-a483-543037c732a4"
   },
   "outputs": [
    {
     "data": {
      "text/plain": [
       "array([0.00626378, 0.00707197, 0.00290756, 0.01788791, 0.00872006,\n",
       "       0.00201388, 0.00306058, 0.00212506, 0.0024671 , 0.00336313,\n",
       "       0.00418499, 0.00747778, 0.01195336, 0.00283154, 0.00410066,\n",
       "       0.00786787, 0.01564528, 0.00196161, 0.00326949, 0.00380029,\n",
       "       0.00614366, 0.0021866 , 0.00244041, 0.00640864, 0.01176694,\n",
       "       0.0041966 , 0.00452781, 0.00426074, 0.00397081, 0.00871481,\n",
       "       0.00440275, 0.00452794, 0.00462844, 0.00513233, 0.01015113,\n",
       "       0.00637638, 0.00842995, 0.00509065, 0.00804081, 0.00285898,\n",
       "       0.0036937 , 0.0027797 , 0.00350688, 0.00272421, 0.0034584 ,\n",
       "       0.00248016, 0.00675324, 0.02487985, 0.00305817, 0.00352142,\n",
       "       0.00880901, 0.00390192, 0.00462262, 0.00100419, 0.00631629,\n",
       "       0.00354523, 0.01268184, 0.00487211, 0.00357783, 0.00311105,\n",
       "       0.00325064, 0.00389675, 0.00268383, 0.00373688, 0.03599318,\n",
       "       0.00442714, 0.00400473, 0.02294951, 0.00737859, 0.00441338,\n",
       "       0.01328577, 0.00783664, 0.00491626, 0.00914264, 0.02753872,\n",
       "       0.00317543, 0.00446653, 0.00608224, 0.00300609, 0.00572628,\n",
       "       0.0034176 , 0.00348681, 0.00374592, 0.00871581, 0.00221753,\n",
       "       0.01300789, 0.01041867, 0.00279379, 0.01957371, 0.00334796,\n",
       "       0.00741969, 0.00554222, 0.00332663, 0.0078147 , 0.01655356,\n",
       "       0.00225856, 0.00821875, 0.03745443, 0.20886351, 0.00233888,\n",
       "       0.00308208, 0.00569937, 0.00466693, 0.00450158, 0.0117808 ,\n",
       "       0.00309956, 0.00439691, 0.00257744, 0.00522107, 0.00331909,\n",
       "       0.00221343, 0.01081437, 0.00311295, 0.01266886, 0.00299924,\n",
       "       0.00401828, 0.00571383, 0.00260955, 0.00450194, 0.00071427,\n",
       "       0.00470178, 0.00663083], dtype=float32)"
      ]
     },
     "execution_count": 18,
     "metadata": {},
     "output_type": "execute_result"
    }
   ],
   "source": [
    "estimator.feature_importances_"
   ]
  },
  {
   "cell_type": "code",
   "execution_count": null,
   "metadata": {
    "id": "lbOtSSv-wflS"
   },
   "outputs": [],
   "source": [
    "prueba = pd.DataFrame(estimator.feature_importances_,index=x_train.columns)"
   ]
  },
  {
   "cell_type": "code",
   "execution_count": null,
   "metadata": {
    "colab": {
     "base_uri": "https://localhost:8080/",
     "height": 206
    },
    "executionInfo": {
     "elapsed": 7,
     "status": "ok",
     "timestamp": 1639769635420,
     "user": {
      "displayName": "Federico Zugna",
      "photoUrl": "https://lh3.googleusercontent.com/a/default-user=s64",
      "userId": "12944999357962513765"
     },
     "user_tz": 180
    },
    "id": "rFzEGqs3wmW6",
    "outputId": "7180f920-ac32-4ee1-9e2d-ce05cb8d3d14"
   },
   "outputs": [
    {
     "data": {
      "text/html": [
       "\n",
       "  <div id=\"df-8d637c67-27fd-4b2e-b623-7d761c65bdff\">\n",
       "    <div class=\"colab-df-container\">\n",
       "      <div>\n",
       "<style scoped>\n",
       "    .dataframe tbody tr th:only-of-type {\n",
       "        vertical-align: middle;\n",
       "    }\n",
       "\n",
       "    .dataframe tbody tr th {\n",
       "        vertical-align: top;\n",
       "    }\n",
       "\n",
       "    .dataframe thead th {\n",
       "        text-align: right;\n",
       "    }\n",
       "</style>\n",
       "<table border=\"1\" class=\"dataframe\">\n",
       "  <thead>\n",
       "    <tr style=\"text-align: right;\">\n",
       "      <th></th>\n",
       "      <th>0</th>\n",
       "    </tr>\n",
       "  </thead>\n",
       "  <tbody>\n",
       "    <tr>\n",
       "      <th>ProductCD</th>\n",
       "      <td>0.006264</td>\n",
       "    </tr>\n",
       "    <tr>\n",
       "      <th>card3</th>\n",
       "      <td>0.007072</td>\n",
       "    </tr>\n",
       "    <tr>\n",
       "      <th>addr1</th>\n",
       "      <td>0.002908</td>\n",
       "    </tr>\n",
       "    <tr>\n",
       "      <th>addr2</th>\n",
       "      <td>0.017888</td>\n",
       "    </tr>\n",
       "    <tr>\n",
       "      <th>R_emaildomain</th>\n",
       "      <td>0.008720</td>\n",
       "    </tr>\n",
       "  </tbody>\n",
       "</table>\n",
       "</div>\n",
       "      <button class=\"colab-df-convert\" onclick=\"convertToInteractive('df-8d637c67-27fd-4b2e-b623-7d761c65bdff')\"\n",
       "              title=\"Convert this dataframe to an interactive table.\"\n",
       "              style=\"display:none;\">\n",
       "        \n",
       "  <svg xmlns=\"http://www.w3.org/2000/svg\" height=\"24px\"viewBox=\"0 0 24 24\"\n",
       "       width=\"24px\">\n",
       "    <path d=\"M0 0h24v24H0V0z\" fill=\"none\"/>\n",
       "    <path d=\"M18.56 5.44l.94 2.06.94-2.06 2.06-.94-2.06-.94-.94-2.06-.94 2.06-2.06.94zm-11 1L8.5 8.5l.94-2.06 2.06-.94-2.06-.94L8.5 2.5l-.94 2.06-2.06.94zm10 10l.94 2.06.94-2.06 2.06-.94-2.06-.94-.94-2.06-.94 2.06-2.06.94z\"/><path d=\"M17.41 7.96l-1.37-1.37c-.4-.4-.92-.59-1.43-.59-.52 0-1.04.2-1.43.59L10.3 9.45l-7.72 7.72c-.78.78-.78 2.05 0 2.83L4 21.41c.39.39.9.59 1.41.59.51 0 1.02-.2 1.41-.59l7.78-7.78 2.81-2.81c.8-.78.8-2.07 0-2.86zM5.41 20L4 18.59l7.72-7.72 1.47 1.35L5.41 20z\"/>\n",
       "  </svg>\n",
       "      </button>\n",
       "      \n",
       "  <style>\n",
       "    .colab-df-container {\n",
       "      display:flex;\n",
       "      flex-wrap:wrap;\n",
       "      gap: 12px;\n",
       "    }\n",
       "\n",
       "    .colab-df-convert {\n",
       "      background-color: #E8F0FE;\n",
       "      border: none;\n",
       "      border-radius: 50%;\n",
       "      cursor: pointer;\n",
       "      display: none;\n",
       "      fill: #1967D2;\n",
       "      height: 32px;\n",
       "      padding: 0 0 0 0;\n",
       "      width: 32px;\n",
       "    }\n",
       "\n",
       "    .colab-df-convert:hover {\n",
       "      background-color: #E2EBFA;\n",
       "      box-shadow: 0px 1px 2px rgba(60, 64, 67, 0.3), 0px 1px 3px 1px rgba(60, 64, 67, 0.15);\n",
       "      fill: #174EA6;\n",
       "    }\n",
       "\n",
       "    [theme=dark] .colab-df-convert {\n",
       "      background-color: #3B4455;\n",
       "      fill: #D2E3FC;\n",
       "    }\n",
       "\n",
       "    [theme=dark] .colab-df-convert:hover {\n",
       "      background-color: #434B5C;\n",
       "      box-shadow: 0px 1px 3px 1px rgba(0, 0, 0, 0.15);\n",
       "      filter: drop-shadow(0px 1px 2px rgba(0, 0, 0, 0.3));\n",
       "      fill: #FFFFFF;\n",
       "    }\n",
       "  </style>\n",
       "\n",
       "      <script>\n",
       "        const buttonEl =\n",
       "          document.querySelector('#df-8d637c67-27fd-4b2e-b623-7d761c65bdff button.colab-df-convert');\n",
       "        buttonEl.style.display =\n",
       "          google.colab.kernel.accessAllowed ? 'block' : 'none';\n",
       "\n",
       "        async function convertToInteractive(key) {\n",
       "          const element = document.querySelector('#df-8d637c67-27fd-4b2e-b623-7d761c65bdff');\n",
       "          const dataTable =\n",
       "            await google.colab.kernel.invokeFunction('convertToInteractive',\n",
       "                                                     [key], {});\n",
       "          if (!dataTable) return;\n",
       "\n",
       "          const docLinkHtml = 'Like what you see? Visit the ' +\n",
       "            '<a target=\"_blank\" href=https://colab.research.google.com/notebooks/data_table.ipynb>data table notebook</a>'\n",
       "            + ' to learn more about interactive tables.';\n",
       "          element.innerHTML = '';\n",
       "          dataTable['output_type'] = 'display_data';\n",
       "          await google.colab.output.renderOutput(dataTable, element);\n",
       "          const docLink = document.createElement('div');\n",
       "          docLink.innerHTML = docLinkHtml;\n",
       "          element.appendChild(docLink);\n",
       "        }\n",
       "      </script>\n",
       "    </div>\n",
       "  </div>\n",
       "  "
      ],
      "text/plain": [
       "                      0\n",
       "ProductCD      0.006264\n",
       "card3          0.007072\n",
       "addr1          0.002908\n",
       "addr2          0.017888\n",
       "R_emaildomain  0.008720"
      ]
     },
     "execution_count": 20,
     "metadata": {},
     "output_type": "execute_result"
    }
   ],
   "source": [
    "prueba.head()"
   ]
  },
  {
   "cell_type": "code",
   "execution_count": null,
   "metadata": {
    "colab": {
     "base_uri": "https://localhost:8080/",
     "height": 955
    },
    "executionInfo": {
     "elapsed": 527,
     "status": "ok",
     "timestamp": 1639769637108,
     "user": {
      "displayName": "Federico Zugna",
      "photoUrl": "https://lh3.googleusercontent.com/a/default-user=s64",
      "userId": "12944999357962513765"
     },
     "user_tz": 180
    },
    "id": "1T3jXsCtwnly",
    "outputId": "d2abcdb0-faea-463d-de13-25d61d09327a"
   },
   "outputs": [
    {
     "data": {
      "text/plain": [
       "<matplotlib.axes._subplots.AxesSubplot at 0x7fdeeadc1e10>"
      ]
     },
     "execution_count": 21,
     "metadata": {},
     "output_type": "execute_result"
    },
    {
     "data": {
      "image/png": "[encoded data removed]",
      "text/plain": [
       "<Figure size 1440x1440 with 1 Axes>"
      ]
     },
     "metadata": {
      "needs_background": "light"
     },
     "output_type": "display_data"
    }
   ],
   "source": [
    "prueba.rename(columns={0:'feature importance'},inplace=True)\n",
    "prueba.sort_values(by=['feature importance'],ascending=False).head(10).plot.bar(y='feature importance',rot=90, color={'g'},)"
   ]
  },
  {
   "cell_type": "code",
   "execution_count": null,
   "metadata": {
    "id": "RyDezXgPwuWp"
   },
   "outputs": [],
   "source": [
    "from sklearn.metrics import ConfusionMatrixDisplay, confusion_matrix"
   ]
  },
  {
   "cell_type": "code",
   "execution_count": null,
   "metadata": {
    "colab": {
     "base_uri": "https://localhost:8080/"
    },
    "executionInfo": {
     "elapsed": 6686,
     "status": "ok",
     "timestamp": 1639770500404,
     "user": {
      "displayName": "Federico Zugna",
      "photoUrl": "https://lh3.googleusercontent.com/a/default-user=s64",
      "userId": "12944999357962513765"
     },
     "user_tz": 180
    },
    "id": "VDRMJvRE4-Q-",
    "outputId": "355f69e1-d185-47c2-8b22-6667186cee99"
   },
   "outputs": [
    {
     "data": {
      "text/plain": [
       "array([[398662,    168],\n",
       "       [  9385,   5163]])"
      ]
     },
     "execution_count": 37,
     "metadata": {},
     "output_type": "execute_result"
    }
   ],
   "source": [
    "confusion_matrix(y_train,np.round(abs(estimator.predict(x_train))))"
   ]
  },
  {
   "cell_type": "code",
   "execution_count": null,
   "metadata": {
    "colab": {
     "base_uri": "https://localhost:8080/"
    },
    "executionInfo": {
     "elapsed": 5790,
     "status": "ok",
     "timestamp": 1639770544788,
     "user": {
      "displayName": "Federico Zugna",
      "photoUrl": "https://lh3.googleusercontent.com/a/default-user=s64",
      "userId": "12944999357962513765"
     },
     "user_tz": 180
    },
    "id": "EGghtTNu8D6c",
    "outputId": "57b8ac4f-7bf4-482f-aed9-9a9d29be2074"
   },
   "outputs": [
    {
     "data": {
      "text/plain": [
       "<sklearn.metrics._plot.confusion_matrix.ConfusionMatrixDisplay at 0x7fdee9289690>"
      ]
     },
     "execution_count": 39,
     "metadata": {},
     "output_type": "execute_result"
    }
   ],
   "source": [
    "a=ConfusionMatrixDisplay(confusion_matrix(y_train,np.round(abs(gb2.predict(x_train)))))\n",
    "a"
   ]
  },
  {
   "cell_type": "code",
   "execution_count": null,
   "metadata": {
    "id": "KTBJlAX78N7R"
   },
   "outputs": [],
   "source": [
    "test_data.drop(columns=['Unnamed: 0'],inplace=True)"
   ]
  },
  {
   "cell_type": "code",
   "execution_count": null,
   "metadata": {
    "id": "pbT3fsVg8oUF"
   },
   "outputs": [],
   "source": [
    "test_data.drop(columns=['id_31.1'],inplace=True)"
   ]
  },
  {
   "cell_type": "code",
   "execution_count": null,
   "metadata": {
    "id": "X-Fkor2Y8UGQ"
   },
   "outputs": [],
   "source": [
    "test_id = pd.read_csv('/content/drive/MyDrive/Colab Notebooks/TP3-DATOS-2C2021/test_120_ids.csv',encoding='Latin-1')"
   ]
  },
  {
   "cell_type": "markdown",
   "metadata": {
    "id": "Cx5KFtfzGWdA"
   },
   "source": [
    "Hago la prediccion de test y genero el csv para poder hacer el submit a Kaggle"
   ]
  },
  {
   "cell_type": "code",
   "execution_count": null,
   "metadata": {
    "id": "FgBwZKI08fNo"
   },
   "outputs": [],
   "source": [
    "predict = estimator.predict(test_data)"
   ]
  },
  {
   "cell_type": "code",
   "execution_count": null,
   "metadata": {
    "id": "5gRqVB0j8kn4"
   },
   "outputs": [],
   "source": [
    "predict2 = pd.DataFrame(predict)"
   ]
  },
  {
   "cell_type": "code",
   "execution_count": null,
   "metadata": {
    "id": "NhIlQV788yJV"
   },
   "outputs": [],
   "source": [
    "predict2['TransactionID']=test_id['TransactionID']"
   ]
  },
  {
   "cell_type": "code",
   "execution_count": null,
   "metadata": {
    "id": "1ixA-r3N80lN"
   },
   "outputs": [],
   "source": [
    "predict2.rename(columns={0:'isFraud'},inplace=True)"
   ]
  },
  {
   "cell_type": "code",
   "execution_count": null,
   "metadata": {
    "id": "gvVudgQ088Tc"
   },
   "outputs": [],
   "source": [
    "predict2=predict2[['TransactionID','isFraud']]"
   ]
  },
  {
   "cell_type": "code",
   "execution_count": null,
   "metadata": {
    "colab": {
     "base_uri": "https://localhost:8080/",
     "height": 206
    },
    "executionInfo": {
     "elapsed": 251,
     "status": "ok",
     "timestamp": 1639770802948,
     "user": {
      "displayName": "Federico Zugna",
      "photoUrl": "https://lh3.googleusercontent.com/a/default-user=s64",
      "userId": "12944999357962513765"
     },
     "user_tz": 180
    },
    "id": "G6ft_5jD9GeE",
    "outputId": "4d026034-e167-4ab6-de6d-ea8f3e1fa4dc"
   },
   "outputs": [
    {
     "data": {
      "text/html": [
       "\n",
       "  <div id=\"df-0fdf2164-164c-45c0-83ff-6cd4b506bd9e\">\n",
       "    <div class=\"colab-df-container\">\n",
       "      <div>\n",
       "<style scoped>\n",
       "    .dataframe tbody tr th:only-of-type {\n",
       "        vertical-align: middle;\n",
       "    }\n",
       "\n",
       "    .dataframe tbody tr th {\n",
       "        vertical-align: top;\n",
       "    }\n",
       "\n",
       "    .dataframe thead th {\n",
       "        text-align: right;\n",
       "    }\n",
       "</style>\n",
       "<table border=\"1\" class=\"dataframe\">\n",
       "  <thead>\n",
       "    <tr style=\"text-align: right;\">\n",
       "      <th></th>\n",
       "      <th>TransactionID</th>\n",
       "      <th>isFraud</th>\n",
       "    </tr>\n",
       "  </thead>\n",
       "  <tbody>\n",
       "    <tr>\n",
       "      <th>0</th>\n",
       "      <td>3663549</td>\n",
       "      <td>0.008804</td>\n",
       "    </tr>\n",
       "    <tr>\n",
       "      <th>1</th>\n",
       "      <td>3663550</td>\n",
       "      <td>0.017538</td>\n",
       "    </tr>\n",
       "    <tr>\n",
       "      <th>2</th>\n",
       "      <td>3663551</td>\n",
       "      <td>0.018918</td>\n",
       "    </tr>\n",
       "    <tr>\n",
       "      <th>3</th>\n",
       "      <td>3663552</td>\n",
       "      <td>0.003173</td>\n",
       "    </tr>\n",
       "    <tr>\n",
       "      <th>4</th>\n",
       "      <td>3663553</td>\n",
       "      <td>0.005210</td>\n",
       "    </tr>\n",
       "  </tbody>\n",
       "</table>\n",
       "</div>\n",
       "      <button class=\"colab-df-convert\" onclick=\"convertToInteractive('df-0fdf2164-164c-45c0-83ff-6cd4b506bd9e')\"\n",
       "              title=\"Convert this dataframe to an interactive table.\"\n",
       "              style=\"display:none;\">\n",
       "        \n",
       "  <svg xmlns=\"http://www.w3.org/2000/svg\" height=\"24px\"viewBox=\"0 0 24 24\"\n",
       "       width=\"24px\">\n",
       "    <path d=\"M0 0h24v24H0V0z\" fill=\"none\"/>\n",
       "    <path d=\"M18.56 5.44l.94 2.06.94-2.06 2.06-.94-2.06-.94-.94-2.06-.94 2.06-2.06.94zm-11 1L8.5 8.5l.94-2.06 2.06-.94-2.06-.94L8.5 2.5l-.94 2.06-2.06.94zm10 10l.94 2.06.94-2.06 2.06-.94-2.06-.94-.94-2.06-.94 2.06-2.06.94z\"/><path d=\"M17.41 7.96l-1.37-1.37c-.4-.4-.92-.59-1.43-.59-.52 0-1.04.2-1.43.59L10.3 9.45l-7.72 7.72c-.78.78-.78 2.05 0 2.83L4 21.41c.39.39.9.59 1.41.59.51 0 1.02-.2 1.41-.59l7.78-7.78 2.81-2.81c.8-.78.8-2.07 0-2.86zM5.41 20L4 18.59l7.72-7.72 1.47 1.35L5.41 20z\"/>\n",
       "  </svg>\n",
       "      </button>\n",
       "      \n",
       "  <style>\n",
       "    .colab-df-container {\n",
       "      display:flex;\n",
       "      flex-wrap:wrap;\n",
       "      gap: 12px;\n",
       "    }\n",
       "\n",
       "    .colab-df-convert {\n",
       "      background-color: #E8F0FE;\n",
       "      border: none;\n",
       "      border-radius: 50%;\n",
       "      cursor: pointer;\n",
       "      display: none;\n",
       "      fill: #1967D2;\n",
       "      height: 32px;\n",
       "      padding: 0 0 0 0;\n",
       "      width: 32px;\n",
       "    }\n",
       "\n",
       "    .colab-df-convert:hover {\n",
       "      background-color: #E2EBFA;\n",
       "      box-shadow: 0px 1px 2px rgba(60, 64, 67, 0.3), 0px 1px 3px 1px rgba(60, 64, 67, 0.15);\n",
       "      fill: #174EA6;\n",
       "    }\n",
       "\n",
       "    [theme=dark] .colab-df-convert {\n",
       "      background-color: #3B4455;\n",
       "      fill: #D2E3FC;\n",
       "    }\n",
       "\n",
       "    [theme=dark] .colab-df-convert:hover {\n",
       "      background-color: #434B5C;\n",
       "      box-shadow: 0px 1px 3px 1px rgba(0, 0, 0, 0.15);\n",
       "      filter: drop-shadow(0px 1px 2px rgba(0, 0, 0, 0.3));\n",
       "      fill: #FFFFFF;\n",
       "    }\n",
       "  </style>\n",
       "\n",
       "      <script>\n",
       "        const buttonEl =\n",
       "          document.querySelector('#df-0fdf2164-164c-45c0-83ff-6cd4b506bd9e button.colab-df-convert');\n",
       "        buttonEl.style.display =\n",
       "          google.colab.kernel.accessAllowed ? 'block' : 'none';\n",
       "\n",
       "        async function convertToInteractive(key) {\n",
       "          const element = document.querySelector('#df-0fdf2164-164c-45c0-83ff-6cd4b506bd9e');\n",
       "          const dataTable =\n",
       "            await google.colab.kernel.invokeFunction('convertToInteractive',\n",
       "                                                     [key], {});\n",
       "          if (!dataTable) return;\n",
       "\n",
       "          const docLinkHtml = 'Like what you see? Visit the ' +\n",
       "            '<a target=\"_blank\" href=https://colab.research.google.com/notebooks/data_table.ipynb>data table notebook</a>'\n",
       "            + ' to learn more about interactive tables.';\n",
       "          element.innerHTML = '';\n",
       "          dataTable['output_type'] = 'display_data';\n",
       "          await google.colab.output.renderOutput(dataTable, element);\n",
       "          const docLink = document.createElement('div');\n",
       "          docLink.innerHTML = docLinkHtml;\n",
       "          element.appendChild(docLink);\n",
       "        }\n",
       "      </script>\n",
       "    </div>\n",
       "  </div>\n",
       "  "
      ],
      "text/plain": [
       "   TransactionID   isFraud\n",
       "0        3663549  0.008804\n",
       "1        3663550  0.017538\n",
       "2        3663551  0.018918\n",
       "3        3663552  0.003173\n",
       "4        3663553  0.005210"
      ]
     },
     "execution_count": 54,
     "metadata": {},
     "output_type": "execute_result"
    }
   ],
   "source": [
    "predict2.head()"
   ]
  },
  {
   "cell_type": "code",
   "execution_count": null,
   "metadata": {
    "id": "evb2dXJA9MgC"
   },
   "outputs": [],
   "source": [
    "predict2.to_csv('/content/drive/MyDrive/Colab Notebooks/TP3-DATOS-2C2021/to_kaggle_XGB.csv',index=False)"
   ]
  },
  {
   "cell_type": "markdown",
   "metadata": {
    "id": "1NuC9BOMGb96"
   },
   "source": [
    "Score en Kaggle:\n",
    "Private score: 0.818542\n",
    "Public score: 0.840535"
   ]
  }
 ],
 "metadata": {
  "colab": {
   "authorship_tag": "ABX9TyPRTILY+jUcM19kZZeNbCiM",
   "name": "XGBoost.ipynb",
   "provenance": []
  },
  "kernelspec": {
   "display_name": "Python 3",
   "language": "python",
   "name": "python3"
  },
  "language_info": {
   "codemirror_mode": {
    "name": "ipython",
    "version": 3
   },
   "file_extension": ".py",
   "mimetype": "text/x-python",
   "name": "python",
   "nbconvert_exporter": "python",
   "pygments_lexer": "ipython3",
   "version": "3.7.1"
  }
 },
 "nbformat": 4,
 "nbformat_minor": 1
}
